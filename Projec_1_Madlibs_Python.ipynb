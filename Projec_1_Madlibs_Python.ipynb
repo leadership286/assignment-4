{
  "nbformat": 4,
  "nbformat_minor": 0,
  "metadata": {
    "colab": {
      "provenance": [],
      "authorship_tag": "ABX9TyOgURBNdIYLgcqD9D3HLqJO",
      "include_colab_link": true
    },
    "kernelspec": {
      "name": "python3",
      "display_name": "Python 3"
    },
    "language_info": {
      "name": "python"
    }
  },
  "cells": [
    {
      "cell_type": "markdown",
      "metadata": {
        "id": "view-in-github",
        "colab_type": "text"
      },
      "source": [
        "<a href=\"https://colab.research.google.com/github/leadership286/assignment-4/blob/main/Projec_1_Madlibs_Python.ipynb\" target=\"_parent\"><img src=\"https://colab.research.google.com/assets/colab-badge.svg\" alt=\"Open In Colab\"/></a>"
      ]
    },
    {
      "cell_type": "code",
      "execution_count": null,
      "metadata": {
        "colab": {
          "base_uri": "https://localhost:8080/"
        },
        "id": "fG3Ehff4m2gP",
        "outputId": "9813c578-7f4b-4bb3-a106-a319067f667b"
      },
      "outputs": [
        {
          "output_type": "stream",
          "name": "stdout",
          "text": [
            "Enter a name: rIMSHA\n",
            "Enter a place: KARACHI\n",
            "Enter an adjective: GOOD\n",
            "Enter a noun: cHAIR\n",
            "Enter a verb ending in -ing: EAT\\\n",
            "\n",
            "Here is your Mad Libs story:\n",
            "\n",
            "Once upon a time, rIMSHA went to KARACHI.\n",
            "It was a very GOOD day.\n",
            "Suddenly, a cHAIR appeared out of nowhere!\n",
            "rIMSHA started EAT\\ and everyone laughed.\n",
            "And they lived happily ever after.\n",
            "\n"
          ]
        }
      ],
      "source": [
        "# Mad Libs Game 🎉\n",
        "\n",
        "# Taking inputs\n",
        "name = input(\"Enter a name: \")\n",
        "place = input(\"Enter a place: \")\n",
        "adjective = input(\"Enter an adjective: \")\n",
        "noun = input(\"Enter a noun: \")\n",
        "verb = input(\"Enter a verb ending in -ing: \")\n",
        "\n",
        "# Story Template\n",
        "story = f\"\"\"\n",
        "Once upon a time, {name} went to {place}.\n",
        "It was a very {adjective} day.\n",
        "Suddenly, a {noun} appeared out of nowhere!\n",
        "{name} started {verb} and everyone laughed.\n",
        "And they lived happily ever after.\n",
        "\"\"\"\n",
        "\n",
        "# Output\n",
        "print(\"\\nHere is your Mad Libs story:\")\n",
        "print(story)\n"
      ]
    }
  ]
}