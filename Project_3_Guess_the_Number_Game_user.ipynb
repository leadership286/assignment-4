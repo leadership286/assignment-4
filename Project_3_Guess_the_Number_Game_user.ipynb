{
  "nbformat": 4,
  "nbformat_minor": 0,
  "metadata": {
    "colab": {
      "provenance": [],
      "authorship_tag": "ABX9TyOHOpPxqZS5kGo4Nh5n26wj",
      "include_colab_link": true
    },
    "kernelspec": {
      "name": "python3",
      "display_name": "Python 3"
    },
    "language_info": {
      "name": "python"
    }
  },
  "cells": [
    {
      "cell_type": "markdown",
      "metadata": {
        "id": "view-in-github",
        "colab_type": "text"
      },
      "source": [
        "<a href=\"https://colab.research.google.com/github/leadership286/assignment-4/blob/main/Project_3_Guess_the_Number_Game_user.ipynb\" target=\"_parent\"><img src=\"https://colab.research.google.com/assets/colab-badge.svg\" alt=\"Open In Colab\"/></a>"
      ]
    },
    {
      "cell_type": "code",
      "execution_count": null,
      "metadata": {
        "colab": {
          "base_uri": "https://localhost:8080/"
        },
        "id": "BZV4zGJ2o2ts",
        "outputId": "82b9fc99-b397-4115-89b0-91ca216266c5"
      },
      "outputs": [
        {
          "output_type": "stream",
          "name": "stdout",
          "text": [
            "Welcome to the Guess the Number game!\n",
            "I am thinking of a number between 1 and 100. Try to guess it!\n",
            "Enter your guess: 87\n",
            "Too high! Try again.\n",
            "Enter your guess: 56\n",
            "Too high! Try again.\n"
          ]
        }
      ],
      "source": [
        "# Guess the Number Game (User guesses) 🎯\n",
        "\n",
        "import random\n",
        "\n",
        "print(\"Welcome to the Guess the Number game!\")\n",
        "print(\"I am thinking of a number between 1 and 100. Try to guess it!\")\n",
        "\n",
        "# Generate a random number between 1 and 100\n",
        "number = random.randint(1, 100)\n",
        "\n",
        "guesses = 0\n",
        "while True:\n",
        "    user_guess = int(input(\"Enter your guess: \"))\n",
        "    guesses += 1\n",
        "\n",
        "    if user_guess < number:\n",
        "        print(\"Too low! Try again.\")\n",
        "    elif user_guess > number:\n",
        "        print(\"Too high! Try again.\")\n",
        "    else:\n",
        "        print(f\"Congratulations! You guessed the number in {guesses} tries 🎉\")\n",
        "        break\n"
      ]
    }
  ]
}