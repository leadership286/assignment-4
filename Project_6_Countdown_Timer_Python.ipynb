{
  "nbformat": 4,
  "nbformat_minor": 0,
  "metadata": {
    "colab": {
      "provenance": [],
      "authorship_tag": "ABX9TyN8uckxHyxrmyGXLV3Jyu9t",
      "include_colab_link": true
    },
    "kernelspec": {
      "name": "python3",
      "display_name": "Python 3"
    },
    "language_info": {
      "name": "python"
    }
  },
  "cells": [
    {
      "cell_type": "markdown",
      "metadata": {
        "id": "view-in-github",
        "colab_type": "text"
      },
      "source": [
        "<a href=\"https://colab.research.google.com/github/leadership286/assignment-4/blob/main/Project_6_Countdown_Timer_Python.ipynb\" target=\"_parent\"><img src=\"https://colab.research.google.com/assets/colab-badge.svg\" alt=\"Open In Colab\"/></a>"
      ]
    },
    {
      "cell_type": "code",
      "execution_count": null,
      "metadata": {
        "colab": {
          "base_uri": "https://localhost:8080/"
        },
        "id": "9G6JqxSgqRfQ",
        "outputId": "215378b9-cd6e-4f91-be32-ce44acbd62a7"
      },
      "outputs": [
        {
          "output_type": "stream",
          "name": "stdout",
          "text": [
            "Enter the time for countdown in seconds: 10\n",
            "Time's up! 🎉\n"
          ]
        }
      ],
      "source": [
        "# Countdown Timer ⏰\n",
        "\n",
        "import time\n",
        "\n",
        "# Get user input for countdown time in seconds\n",
        "time_in_seconds = int(input(\"Enter the time for countdown in seconds: \"))\n",
        "\n",
        "# Countdown loop\n",
        "while time_in_seconds > 0:\n",
        "    mins, secs = divmod(time_in_seconds, 60)\n",
        "    time_format = f\"{mins:02d}:{secs:02d}\"\n",
        "    print(time_format, end='\\r')\n",
        "    time.sleep(1)  # Wait for 1 second\n",
        "    time_in_seconds -= 1\n",
        "\n",
        "# Time’s up!\n",
        "print(\"Time's up! 🎉\")\n"
      ]
    }
  ]
}