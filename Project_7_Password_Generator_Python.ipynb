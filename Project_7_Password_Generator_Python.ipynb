{
  "nbformat": 4,
  "nbformat_minor": 0,
  "metadata": {
    "colab": {
      "provenance": [],
      "authorship_tag": "ABX9TyNceuO9vO7ufqjAyxFHY9PM",
      "include_colab_link": true
    },
    "kernelspec": {
      "name": "python3",
      "display_name": "Python 3"
    },
    "language_info": {
      "name": "python"
    }
  },
  "cells": [
    {
      "cell_type": "markdown",
      "metadata": {
        "id": "view-in-github",
        "colab_type": "text"
      },
      "source": [
        "<a href=\"https://colab.research.google.com/github/leadership286/assignment-4/blob/main/Project_7_Password_Generator_Python.ipynb\" target=\"_parent\"><img src=\"https://colab.research.google.com/assets/colab-badge.svg\" alt=\"Open In Colab\"/></a>"
      ]
    },
    {
      "cell_type": "code",
      "execution_count": null,
      "metadata": {
        "id": "yU3kDK3Qqgu8"
      },
      "outputs": [],
      "source": [
        "# Password Generator 🔑\n",
        "\n",
        "import random\n",
        "import string\n",
        "\n",
        "def generate_password(length=12):\n",
        "    # Create a pool of characters (letters, digits, punctuation)\n",
        "    characters = string.ascii_letters + string.digits + string.punctuation\n",
        "\n",
        "    # Randomly select characters from the pool\n",
        "    password = ''.join(random.choice(characters) for i in range(length))\n",
        "\n",
        "    return password\n",
        "\n",
        "# Generate a random password of specified length\n",
        "password_length = int(input(\"Enter the desired password length: \"))\n",
        "password = generate_password(password_length)\n",
        "print(f\"Your generated password is: {password}\")\n"
      ]
    }
  ]
}