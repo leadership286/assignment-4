{
  "nbformat": 4,
  "nbformat_minor": 0,
  "metadata": {
    "colab": {
      "provenance": [],
      "authorship_tag": "ABX9TyPBCycSHf0Ze3bdaQPTwtTg",
      "include_colab_link": true
    },
    "kernelspec": {
      "name": "python3",
      "display_name": "Python 3"
    },
    "language_info": {
      "name": "python"
    }
  },
  "cells": [
    {
      "cell_type": "markdown",
      "metadata": {
        "id": "view-in-github",
        "colab_type": "text"
      },
      "source": [
        "<a href=\"https://colab.research.google.com/github/leadership286/assignment-4/blob/main/Project_4_Rock%2CPaper%2CScissor.ipynb\" target=\"_parent\"><img src=\"https://colab.research.google.com/assets/colab-badge.svg\" alt=\"Open In Colab\"/></a>"
      ]
    },
    {
      "cell_type": "code",
      "execution_count": null,
      "metadata": {
        "id": "iWM0Iq5MpUpX"
      },
      "outputs": [],
      "source": [
        "# Rock, Paper, Scissors Game ✌️✋✊\n",
        "\n",
        "import random\n",
        "\n",
        "# Options for Rock, Paper, Scissors\n",
        "options = [\"rock\", \"paper\", \"scissors\"]\n",
        "\n",
        "# Ask user for their choice\n",
        "user_choice = input(\"Enter your choice (rock, paper, or scissors): \").lower()\n",
        "\n",
        "# Check if the input is valid\n",
        "if user_choice not in options:\n",
        "    print(\"Invalid choice! Please choose either rock, paper, or scissors.\")\n",
        "else:\n",
        "    # Computer makes its choice\n",
        "    computer_choice = random.choice(options)\n",
        "    print(f\"Computer chose: {computer_choice}\")\n",
        "\n",
        "    # Determine the winner\n",
        "    if user_choice == computer_choice:\n",
        "        print(\"It's a tie!\")\n",
        "    elif (user_choice == \"rock\" and computer_choice == \"scissors\") or \\\n",
        "         (user_choice == \"scissors\" and computer_choice == \"paper\") or \\\n",
        "         (user_choice == \"paper\" and computer_choice == \"rock\"):\n",
        "        print(\"You win!\")\n",
        "    else:\n",
        "        print(\"Computer wins!\")\n"
      ]
    }
  ]
}