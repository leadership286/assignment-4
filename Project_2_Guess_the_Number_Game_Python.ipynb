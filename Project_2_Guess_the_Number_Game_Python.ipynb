{
  "nbformat": 4,
  "nbformat_minor": 0,
  "metadata": {
    "colab": {
      "provenance": [],
      "authorship_tag": "ABX9TyOUBkEIhkLZOIlAlNzwLx3O",
      "include_colab_link": true
    },
    "kernelspec": {
      "name": "python3",
      "display_name": "Python 3"
    },
    "language_info": {
      "name": "python"
    }
  },
  "cells": [
    {
      "cell_type": "markdown",
      "metadata": {
        "id": "view-in-github",
        "colab_type": "text"
      },
      "source": [
        "<a href=\"https://colab.research.google.com/github/leadership286/assignment-4/blob/main/Project_2_Guess_the_Number_Game_Python.ipynb\" target=\"_parent\"><img src=\"https://colab.research.google.com/assets/colab-badge.svg\" alt=\"Open In Colab\"/></a>"
      ]
    },
    {
      "cell_type": "code",
      "execution_count": null,
      "metadata": {
        "colab": {
          "base_uri": "https://localhost:8080/"
        },
        "id": "DPt0dpkJoTOT",
        "outputId": "f343f238-4e5d-45e8-8582-d791782f40ca"
      },
      "outputs": [
        {
          "output_type": "stream",
          "name": "stdout",
          "text": [
            "Think of a number between 1 and 100 and I will try to guess it!\n",
            "Press Enter when you're ready...4\n",
            "My guess is: 50\n",
            "Is it (H)igh, (L)ow, or (C)orrect? C\n",
            "Yay! I guessed your number in 1 tries 🎉\n"
          ]
        }
      ],
      "source": [
        "# Guess the Number Game (Computer guesses) 🎮\n",
        "\n",
        "import time\n",
        "\n",
        "print(\"Think of a number between 1 and 100 and I will try to guess it!\")\n",
        "input(\"Press Enter when you're ready...\")\n",
        "\n",
        "low = 1\n",
        "high = 100\n",
        "guesses = 0\n",
        "\n",
        "while True:\n",
        "    guess = (low + high) // 2\n",
        "    print(f\"My guess is: {guess}\")\n",
        "    feedback = input(\"Is it (H)igh, (L)ow, or (C)orrect? \").lower()\n",
        "    guesses += 1\n",
        "\n",
        "    if feedback == 'h':\n",
        "        high = guess - 1\n",
        "    elif feedback == 'l':\n",
        "        low = guess + 1\n",
        "    elif feedback == 'c':\n",
        "        print(f\"Yay! I guessed your number in {guesses} tries 🎉\")\n",
        "        break\n",
        "    else:\n",
        "        print(\"Please enter H, L, or C only.\")\n"
      ]
    }
  ]
}