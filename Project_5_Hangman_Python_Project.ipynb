{
  "nbformat": 4,
  "nbformat_minor": 0,
  "metadata": {
    "colab": {
      "provenance": [],
      "authorship_tag": "ABX9TyMseBV1P3V2ipcMRSgnHip9",
      "include_colab_link": true
    },
    "kernelspec": {
      "name": "python3",
      "display_name": "Python 3"
    },
    "language_info": {
      "name": "python"
    }
  },
  "cells": [
    {
      "cell_type": "markdown",
      "metadata": {
        "id": "view-in-github",
        "colab_type": "text"
      },
      "source": [
        "<a href=\"https://colab.research.google.com/github/leadership286/assignment-4/blob/main/Project_5_Hangman_Python_Project.ipynb\" target=\"_parent\"><img src=\"https://colab.research.google.com/assets/colab-badge.svg\" alt=\"Open In Colab\"/></a>"
      ]
    },
    {
      "cell_type": "code",
      "execution_count": null,
      "metadata": {
        "colab": {
          "base_uri": "https://localhost:8080/"
        },
        "id": "-uNwm-evpqPx",
        "outputId": "ce1e877a-a4f4-4850-d771-a209e6565c1e"
      },
      "outputs": [
        {
          "output_type": "stream",
          "name": "stdout",
          "text": [
            "Welcome to Hangman!\n",
            "Guess the word:\n",
            "_ _ _ _ _ _ _ _\n",
            "\n",
            "Enter a letter: y\n",
            "Oops! y is not in the word. You have 5 attempts left.\n",
            "_ _ _ _ _ _ _ _\n",
            "\n",
            "Enter a letter: r\n",
            "Good guess! r is in the word.\n",
            "_ _ _ _ _ _ _ r\n",
            "\n",
            "Enter a letter: a\n",
            "Oops! a is not in the word. You have 4 attempts left.\n",
            "_ _ _ _ _ _ _ r\n",
            "\n",
            "Enter a letter: j\n",
            "Oops! j is not in the word. You have 3 attempts left.\n",
            "_ _ _ _ _ _ _ r\n",
            "\n",
            "Enter a letter: k\n",
            "Oops! k is not in the word. You have 2 attempts left.\n",
            "_ _ _ _ _ _ _ r\n",
            "\n",
            "Enter a letter: ;\n",
            "Please enter only one letter.\n",
            "\n",
            "Enter a letter: m\n",
            "Good guess! m is in the word.\n",
            "_ _ m _ _ _ _ r\n",
            "\n",
            "Enter a letter: j\n",
            "Oops! j is not in the word. You have 1 attempts left.\n",
            "_ _ m _ _ _ _ r\n",
            "\n",
            "Enter a letter: h\n",
            "Oops! h is not in the word. You have 0 attempts left.\n",
            "_ _ m _ _ _ _ r\n",
            "\n",
            "Game Over! The word was: computer\n"
          ]
        }
      ],
      "source": [
        "# Hangman Game 🎩\n",
        "\n",
        "import random\n",
        "\n",
        "# List of words for the game\n",
        "words = [\"python\", \"hangman\", \"computer\", \"programming\", \"developer\"]\n",
        "chosen_word = random.choice(words)\n",
        "\n",
        "# Create a list of underscores representing the word\n",
        "guessed_word = [\"_\"] * len(chosen_word)\n",
        "\n",
        "attempts = 6  # Number of attempts before the hangman is fully drawn\n",
        "\n",
        "print(\"Welcome to Hangman!\")\n",
        "print(\"Guess the word:\")\n",
        "print(\" \".join(guessed_word))\n",
        "\n",
        "# Main game loop\n",
        "while attempts > 0:\n",
        "    guess = input(\"\\nEnter a letter: \").lower()\n",
        "\n",
        "    if len(guess) != 1 or not guess.isalpha():\n",
        "        print(\"Please enter only one letter.\")\n",
        "        continue\n",
        "\n",
        "    if guess in chosen_word:\n",
        "        print(f\"Good guess! {guess} is in the word.\")\n",
        "        # Update the guessed word with the correct guess\n",
        "        for i in range(len(chosen_word)):\n",
        "            if chosen_word[i] == guess:\n",
        "                guessed_word[i] = guess\n",
        "    else:\n",
        "        attempts -= 1\n",
        "        print(f\"Oops! {guess} is not in the word. You have {attempts} attempts left.\")\n",
        "\n",
        "    print(\" \".join(guessed_word))\n",
        "\n",
        "    if \"_\" not in guessed_word:\n",
        "        print(\"\\nCongratulations! You guessed the word!\")\n",
        "        break\n",
        "\n",
        "if attempts == 0:\n",
        "    print(f\"\\nGame Over! The word was: {chosen_word}\")\n"
      ]
    }
  ]
}